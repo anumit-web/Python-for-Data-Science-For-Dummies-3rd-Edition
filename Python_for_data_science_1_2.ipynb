{
  "cells": [
    {
      "cell_type": "markdown",
      "metadata": {
        "id": "view-in-github",
        "colab_type": "text"
      },
      "source": [
        "<a href=\"https://colab.research.google.com/github/anumit-web/Python-for-Data-Science-For-Dummies-3rd-Edition/blob/main/Python_for_data_science_1_2.ipynb\" target=\"_parent\"><img src=\"https://colab.research.google.com/assets/colab-badge.svg\" alt=\"Open In Colab\"/></a>"
      ]
    },
    {
      "cell_type": "markdown",
      "source": [
        "# python dummies"
      ],
      "metadata": {
        "id": "ykokqPDdRQzR"
      }
    },
    {
      "cell_type": "code",
      "execution_count": null,
      "metadata": {
        "id": "yUSv6KWRRCLf"
      },
      "outputs": [],
      "source": [
        "https://github.com/anumit-web/Python-for-Data-Science-For-Dummies-3rd-Edition/"
      ]
    },
    {
      "cell_type": "markdown",
      "source": [
        "https://github.com/anumit-web/Python-for-Data-Science-For-Dummies-3rd-Edition/"
      ],
      "metadata": {
        "id": "YS-2SfHFROhO"
      }
    },
    {
      "cell_type": "code",
      "source": [
        "if 1 < 2:\n",
        "   print(\"1 is less than 2\")\n"
      ],
      "metadata": {
        "colab": {
          "base_uri": "https://localhost:8080/"
        },
        "id": "W3QHHJ1SR3hk",
        "outputId": "d6d80e83-9fb4-4363-e346-054d3581b39e"
      },
      "execution_count": 3,
      "outputs": [
        {
          "output_type": "stream",
          "name": "stdout",
          "text": [
            "1 is less than 2\n"
          ]
        }
      ]
    },
    {
      "cell_type": "code",
      "source": [
        "from sklearn.utils import Bunch\n",
        "items = dir(Bunch)\n",
        "for  item in items:\n",
        "    if 'key' in item:\n",
        "         print(item)"
      ],
      "metadata": {
        "id": "QL7E5gNpWERa"
      },
      "execution_count": null,
      "outputs": []
    }
  ],
  "metadata": {
    "kernelspec": {
      "display_name": "Python 3",
      "name": "python3"
    },
    "language_info": {
      "name": "python"
    },
    "colab": {
      "provenance": [],
      "include_colab_link": true
    }
  },
  "nbformat": 4,
  "nbformat_minor": 0
}