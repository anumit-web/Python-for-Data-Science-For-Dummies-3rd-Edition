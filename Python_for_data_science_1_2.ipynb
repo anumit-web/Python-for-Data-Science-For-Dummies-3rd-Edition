{
  "cells": [
    {
      "cell_type": "markdown",
      "metadata": {
        "id": "view-in-github",
        "colab_type": "text"
      },
      "source": [
        "<a href=\"https://colab.research.google.com/github/anumit-web/Python-for-Data-Science-For-Dummies-3rd-Edition/blob/main/Python_for_data_science_1_2.ipynb\" target=\"_parent\"><img src=\"https://colab.research.google.com/assets/colab-badge.svg\" alt=\"Open In Colab\"/></a>"
      ]
    },
    {
      "cell_type": "markdown",
      "source": [
        "# python dummies"
      ],
      "metadata": {
        "id": "ykokqPDdRQzR"
      }
    },
    {
      "cell_type": "code",
      "execution_count": null,
      "metadata": {
        "id": "yUSv6KWRRCLf"
      },
      "outputs": [],
      "source": [
        "https://github.com/anumit-web/Python-for-Data-Science-For-Dummies-3rd-Edition/"
      ]
    },
    {
      "cell_type": "markdown",
      "source": [
        "https://github.com/anumit-web/Python-for-Data-Science-For-Dummies-3rd-Edition/"
      ],
      "metadata": {
        "id": "YS-2SfHFROhO"
      }
    },
    {
      "cell_type": "code",
      "source": [
        "if 1 < 2:\n",
        "   print(\"1 is less than 2\")”\n"
      ],
      "metadata": {
        "id": "W3QHHJ1SR3hk"
      },
      "execution_count": null,
      "outputs": []
    }
  ],
  "metadata": {
    "kernelspec": {
      "display_name": "Python 3 (Anaconda)",
      "language": "python",
      "name": "anaconda3"
    },
    "language_info": {
      "codemirror_mode": {
        "name": "ipython",
        "version": 3
      },
      "file_extension": ".py",
      "mimetype": "text/x-python",
      "name": "python",
      "nbconvert_exporter": "python",
      "pygments_lexer": "ipython3",
      "version": "3.5.4"
    },
    "colab": {
      "provenance": [],
      "include_colab_link": true
    }
  },
  "nbformat": 4,
  "nbformat_minor": 0
}