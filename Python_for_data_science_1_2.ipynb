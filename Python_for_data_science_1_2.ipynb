{
  "cells": [
    {
      "cell_type": "markdown",
      "metadata": {
        "id": "view-in-github",
        "colab_type": "text"
      },
      "source": [
        "<a href=\"https://colab.research.google.com/github/anumit-web/Python-for-Data-Science-For-Dummies-3rd-Edition/blob/main/Python_for_data_science_1_2.ipynb\" target=\"_parent\"><img src=\"https://colab.research.google.com/assets/colab-badge.svg\" alt=\"Open In Colab\"/></a>"
      ]
    },
    {
      "cell_type": "markdown",
      "source": [
        "# python dummies"
      ],
      "metadata": {
        "id": "ykokqPDdRQzR"
      }
    },
    {
      "cell_type": "markdown",
      "source": [
        "https://github.com/anumit-web/Python-for-Data-Science-For-Dummies-3rd-Edition/"
      ],
      "metadata": {
        "id": "YS-2SfHFROhO"
      }
    },
    {
      "cell_type": "code",
      "source": [
        "if 1 < 2:\n",
        "   print(\"1 is less than 2\")\n"
      ],
      "metadata": {
        "id": "W3QHHJ1SR3hk"
      },
      "execution_count": null,
      "outputs": []
    },
    {
      "cell_type": "code",
      "source": [
        "from sklearn.utils import Bunch\n",
        "items = dir(Bunch)\n",
        "for  item in items:\n",
        "    if 'key' in item:\n",
        "         print(item)"
      ],
      "metadata": {
        "id": "QL7E5gNpWERa"
      },
      "execution_count": null,
      "outputs": []
    },
    {
      "cell_type": "code",
      "source": [
        "import matplotlib.image as img\n",
        "import matplotlib.pyplot as plt\n",
        "image = img.imread(\"Dolphins.jpg\")\n",
        "\n",
        "print(image.shape)\n",
        "print(image.size)\n",
        "plt.imshow(image)\n",
        "plt.show()"
      ],
      "metadata": {
        "id": "1XzHCMk012sK"
      },
      "execution_count": null,
      "outputs": []
    },
    {
      "cell_type": "code",
      "source": [
        "import pandas as pd\n",
        "color_table = pd.io.parsers.read_table(\"Colors.txt\")\n",
        "print(color_table)"
      ],
      "metadata": {
        "id": "eZ3tPqT5blyC"
      },
      "execution_count": null,
      "outputs": []
    }
  ],
  "metadata": {
    "kernelspec": {
      "display_name": "Python 3",
      "name": "python3"
    },
    "language_info": {
      "name": "python"
    },
    "colab": {
      "provenance": [],
      "include_colab_link": true
    }
  },
  "nbformat": 4,
  "nbformat_minor": 0
}