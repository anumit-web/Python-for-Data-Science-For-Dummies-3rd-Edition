{
  "cells": [
    {
      "cell_type": "markdown",
      "metadata": {
        "id": "view-in-github",
        "colab_type": "text"
      },
      "source": [
        "<a href=\"https://colab.research.google.com/github/anumit-web/Python-for-Data-Science-For-Dummies-3rd-Edition/blob/main/Python_for_data_science_1_3.ipynb\" target=\"_parent\"><img src=\"https://colab.research.google.com/assets/colab-badge.svg\" alt=\"Open In Colab\"/></a>"
      ]
    },
    {
      "cell_type": "markdown",
      "source": [
        "# Python dummies"
      ],
      "metadata": {
        "id": "tcPBw1fq0529"
      }
    },
    {
      "cell_type": "code",
      "source": [
        "import datetime as dt\n",
        "now = dt.datetime.now()\n",
        "print(str(now))\n",
        "print(now.strftime('%a, %d %B %Y'))"
      ],
      "metadata": {
        "colab": {
          "base_uri": "https://localhost:8080/"
        },
        "id": "K5TTHanT1IIU",
        "outputId": "e8623942-60e1-4646-aed7-918333c0bffc"
      },
      "execution_count": 2,
      "outputs": [
        {
          "output_type": "stream",
          "name": "stdout",
          "text": [
            "2024-08-09 11:13:17.994335\n",
            "Fri, 09 August 2024\n"
          ]
        }
      ]
    },
    {
      "cell_type": "code",
      "source": [
        "import datetime as dt\n",
        "now = dt.datetime.now()\n",
        "timevalue = now + dt.timedelta(hours=2)\n",
        "print(now.strftime('%H:%M:%S'))\n",
        "print(timevalue.strftime('%H:%M:%S'))\n",
        "print(timevalue - now)"
      ],
      "metadata": {
        "colab": {
          "base_uri": "https://localhost:8080/"
        },
        "id": "u242THid17Nv",
        "outputId": "7ccc6707-f441-4e1a-98bc-b3999f8bb817"
      },
      "execution_count": 3,
      "outputs": [
        {
          "output_type": "stream",
          "name": "stdout",
          "text": [
            "11:13:18\n",
            "13:13:18\n",
            "2:00:00\n"
          ]
        }
      ]
    }
  ],
  "metadata": {
    "kernelspec": {
      "display_name": "Python 3",
      "name": "python3"
    },
    "language_info": {
      "name": "python"
    },
    "colab": {
      "provenance": [],
      "include_colab_link": true
    }
  },
  "nbformat": 4,
  "nbformat_minor": 0
}